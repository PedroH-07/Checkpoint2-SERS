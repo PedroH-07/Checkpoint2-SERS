{
  "nbformat": 4,
  "nbformat_minor": 0,
  "metadata": {
    "colab": {
      "provenance": [],
      "authorship_tag": "ABX9TyMk/y/gRKgIcsC8+7IeXQiw",
      "include_colab_link": true
    },
    "kernelspec": {
      "name": "python3",
      "display_name": "Python 3"
    },
    "language_info": {
      "name": "python"
    }
  },
  "cells": [
    {
      "cell_type": "markdown",
      "metadata": {
        "id": "view-in-github",
        "colab_type": "text"
      },
      "source": [
        "<a href=\"https://colab.research.google.com/github/PedroH-07/Checkpoint2-SERS/blob/main/Checkpoint2_SERS.ipynb\" target=\"_parent\"><img src=\"https://colab.research.google.com/assets/colab-badge.svg\" alt=\"Open In Colab\"/></a>"
      ]
    },
    {
      "cell_type": "markdown",
      "source": [
        "# **Appliance Energy Prediction**"
      ],
      "metadata": {
        "id": "fy7ieX2zR84F"
      }
    },
    {
      "cell_type": "code",
      "source": [
        "#Importando Bibliotecas\n",
        "import pandas as pd\n",
        "from sklearn.model_selection import train_test_split\n",
        "from sklearn.linear_model import LinearRegression\n",
        "from sklearn.ensemble import RandomForestRegressor\n",
        "from sklearn.tree import DecisionTreeRegressor\n",
        "from sklearn.metrics import r2_score, mean_squared_error, mean_absolute_error\n",
        "import numpy as np"
      ],
      "metadata": {
        "id": "YrEkkiELV6v9"
      },
      "execution_count": null,
      "outputs": []
    },
    {
      "cell_type": "code",
      "metadata": {
        "colab": {
          "base_uri": "https://localhost:8080/"
        },
        "id": "36a464bc",
        "outputId": "bb8770f0-1919-42bc-d3b3-b9da7a36f88a"
      },
      "source": [
        "# colocando o dataset e pritando as informações dele\n",
        "df = pd.read_csv('/content/energydata_complete.csv')\n",
        "\n",
        "print(df.head())\n",
        "print(df.info())\n",
        "print(df.describe())"
      ],
      "execution_count": null,
      "outputs": [
        {
          "output_type": "stream",
          "name": "stdout",
          "text": [
            "                  date  Appliances  lights     T1       RH_1    T2       RH_2  \\\n",
            "0  2016-01-11 17:00:00          60      30  19.89  47.596667  19.2  44.790000   \n",
            "1  2016-01-11 17:10:00          60      30  19.89  46.693333  19.2  44.722500   \n",
            "2  2016-01-11 17:20:00          50      30  19.89  46.300000  19.2  44.626667   \n",
            "3  2016-01-11 17:30:00          50      40  19.89  46.066667  19.2  44.590000   \n",
            "4  2016-01-11 17:40:00          60      40  19.89  46.333333  19.2  44.530000   \n",
            "\n",
            "      T3       RH_3         T4  ...         T9   RH_9     T_out  Press_mm_hg  \\\n",
            "0  19.79  44.730000  19.000000  ...  17.033333  45.53  6.600000        733.5   \n",
            "1  19.79  44.790000  19.000000  ...  17.066667  45.56  6.483333        733.6   \n",
            "2  19.79  44.933333  18.926667  ...  17.000000  45.50  6.366667        733.7   \n",
            "3  19.79  45.000000  18.890000  ...  17.000000  45.40  6.250000        733.8   \n",
            "4  19.79  45.000000  18.890000  ...  17.000000  45.40  6.133333        733.9   \n",
            "\n",
            "   RH_out  Windspeed  Visibility  Tdewpoint        rv1        rv2  \n",
            "0    92.0   7.000000   63.000000        5.3  13.275433  13.275433  \n",
            "1    92.0   6.666667   59.166667        5.2  18.606195  18.606195  \n",
            "2    92.0   6.333333   55.333333        5.1  28.642668  28.642668  \n",
            "3    92.0   6.000000   51.500000        5.0  45.410389  45.410389  \n",
            "4    92.0   5.666667   47.666667        4.9  10.084097  10.084097  \n",
            "\n",
            "[5 rows x 29 columns]\n",
            "<class 'pandas.core.frame.DataFrame'>\n",
            "RangeIndex: 19735 entries, 0 to 19734\n",
            "Data columns (total 29 columns):\n",
            " #   Column       Non-Null Count  Dtype  \n",
            "---  ------       --------------  -----  \n",
            " 0   date         19735 non-null  object \n",
            " 1   Appliances   19735 non-null  int64  \n",
            " 2   lights       19735 non-null  int64  \n",
            " 3   T1           19735 non-null  float64\n",
            " 4   RH_1         19735 non-null  float64\n",
            " 5   T2           19735 non-null  float64\n",
            " 6   RH_2         19735 non-null  float64\n",
            " 7   T3           19735 non-null  float64\n",
            " 8   RH_3         19735 non-null  float64\n",
            " 9   T4           19735 non-null  float64\n",
            " 10  RH_4         19735 non-null  float64\n",
            " 11  T5           19735 non-null  float64\n",
            " 12  RH_5         19735 non-null  float64\n",
            " 13  T6           19735 non-null  float64\n",
            " 14  RH_6         19735 non-null  float64\n",
            " 15  T7           19735 non-null  float64\n",
            " 16  RH_7         19735 non-null  float64\n",
            " 17  T8           19735 non-null  float64\n",
            " 18  RH_8         19735 non-null  float64\n",
            " 19  T9           19735 non-null  float64\n",
            " 20  RH_9         19735 non-null  float64\n",
            " 21  T_out        19735 non-null  float64\n",
            " 22  Press_mm_hg  19735 non-null  float64\n",
            " 23  RH_out       19735 non-null  float64\n",
            " 24  Windspeed    19735 non-null  float64\n",
            " 25  Visibility   19735 non-null  float64\n",
            " 26  Tdewpoint    19735 non-null  float64\n",
            " 27  rv1          19735 non-null  float64\n",
            " 28  rv2          19735 non-null  float64\n",
            "dtypes: float64(26), int64(2), object(1)\n",
            "memory usage: 4.4+ MB\n",
            "None\n",
            "         Appliances        lights            T1          RH_1            T2  \\\n",
            "count  19735.000000  19735.000000  19735.000000  19735.000000  19735.000000   \n",
            "mean      97.694958      3.801875     21.686571     40.259739     20.341219   \n",
            "std      102.524891      7.935988      1.606066      3.979299      2.192974   \n",
            "min       10.000000      0.000000     16.790000     27.023333     16.100000   \n",
            "25%       50.000000      0.000000     20.760000     37.333333     18.790000   \n",
            "50%       60.000000      0.000000     21.600000     39.656667     20.000000   \n",
            "75%      100.000000      0.000000     22.600000     43.066667     21.500000   \n",
            "max     1080.000000     70.000000     26.260000     63.360000     29.856667   \n",
            "\n",
            "               RH_2            T3          RH_3            T4          RH_4  \\\n",
            "count  19735.000000  19735.000000  19735.000000  19735.000000  19735.000000   \n",
            "mean      40.420420     22.267611     39.242500     20.855335     39.026904   \n",
            "std        4.069813      2.006111      3.254576      2.042884      4.341321   \n",
            "min       20.463333     17.200000     28.766667     15.100000     27.660000   \n",
            "25%       37.900000     20.790000     36.900000     19.530000     35.530000   \n",
            "50%       40.500000     22.100000     38.530000     20.666667     38.400000   \n",
            "75%       43.260000     23.290000     41.760000     22.100000     42.156667   \n",
            "max       56.026667     29.236000     50.163333     26.200000     51.090000   \n",
            "\n",
            "       ...            T9          RH_9         T_out   Press_mm_hg  \\\n",
            "count  ...  19735.000000  19735.000000  19735.000000  19735.000000   \n",
            "mean   ...     19.485828     41.552401      7.411665    755.522602   \n",
            "std    ...      2.014712      4.151497      5.317409      7.399441   \n",
            "min    ...     14.890000     29.166667     -5.000000    729.300000   \n",
            "25%    ...     18.000000     38.500000      3.666667    750.933333   \n",
            "50%    ...     19.390000     40.900000      6.916667    756.100000   \n",
            "75%    ...     20.600000     44.338095     10.408333    760.933333   \n",
            "max    ...     24.500000     53.326667     26.100000    772.300000   \n",
            "\n",
            "             RH_out     Windspeed    Visibility     Tdewpoint           rv1  \\\n",
            "count  19735.000000  19735.000000  19735.000000  19735.000000  19735.000000   \n",
            "mean      79.750418      4.039752     38.330834      3.760707     24.988033   \n",
            "std       14.901088      2.451221     11.794719      4.194648     14.496634   \n",
            "min       24.000000      0.000000      1.000000     -6.600000      0.005322   \n",
            "25%       70.333333      2.000000     29.000000      0.900000     12.497889   \n",
            "50%       83.666667      3.666667     40.000000      3.433333     24.897653   \n",
            "75%       91.666667      5.500000     40.000000      6.566667     37.583769   \n",
            "max      100.000000     14.000000     66.000000     15.500000     49.996530   \n",
            "\n",
            "                rv2  \n",
            "count  19735.000000  \n",
            "mean      24.988033  \n",
            "std       14.496634  \n",
            "min        0.005322  \n",
            "25%       12.497889  \n",
            "50%       24.897653  \n",
            "75%       37.583769  \n",
            "max       49.996530  \n",
            "\n",
            "[8 rows x 28 columns]\n"
          ]
        }
      ]
    },
    {
      "cell_type": "code",
      "source": [
        "X = df.drop(['date', 'Appliances'], axis=1)\n",
        "y = df['Appliances']"
      ],
      "metadata": {
        "id": "TEpIb4-CWlE3"
      },
      "execution_count": null,
      "outputs": []
    },
    {
      "cell_type": "code",
      "source": [
        "X_train, X_test, y_train, y_test = train_test_split(X, y, test_size=0.2, random_state=42)"
      ],
      "metadata": {
        "id": "zHdADINsWnfJ"
      },
      "execution_count": null,
      "outputs": []
    },
    {
      "cell_type": "code",
      "source": [
        "# Regressão Linear\n",
        "lr = LinearRegression()\n",
        "lr.fit(X_train, y_train)\n",
        "y_pred_lr = lr.predict(X_test)"
      ],
      "metadata": {
        "id": "_zTKXuoWWsCJ"
      },
      "execution_count": null,
      "outputs": []
    },
    {
      "cell_type": "code",
      "source": [
        "#Árvore de Regressão (Decision Tree)\n",
        "dt = DecisionTreeRegressor(random_state=42)\n",
        "dt.fit(X_train, y_train)\n",
        "y_pred_dt = dt.predict(X_test)"
      ],
      "metadata": {
        "id": "O2seSoZZWxyI"
      },
      "execution_count": null,
      "outputs": []
    },
    {
      "cell_type": "code",
      "source": [
        "#Random Forest\n",
        "rf = RandomForestRegressor(random_state=42)\n",
        "rf.fit(X_train, y_train)\n",
        "y_pred_rf = rf.predict(X_test)"
      ],
      "metadata": {
        "id": "s7jba-lUW3e5"
      },
      "execution_count": null,
      "outputs": []
    },
    {
      "cell_type": "code",
      "source": [
        "# Avaliação dos modelos usando R², RMSE e MAE\n",
        "def print_metrics(y_true, y_pred, model_name):\n",
        "    r2 = r2_score(y_true, y_pred)\n",
        "    rmse = np.sqrt(mean_squared_error(y_true, y_pred))\n",
        "    mae = mean_absolute_error(y_true, y_pred)\n",
        "    print(f\"\\n{model_name}:\")\n",
        "    print(f\"R² = {r2:.4f}\")\n",
        "    print(f\"RMSE = {rmse:.2f}\")\n",
        "    print(f\"MAE = {mae:.2f}\")"
      ],
      "metadata": {
        "id": "nVqEXWseXRwZ"
      },
      "execution_count": null,
      "outputs": []
    },
    {
      "cell_type": "code",
      "source": [
        "print_metrics(y_test, y_pred_lr, \"Regressão Linear\")\n",
        "print_metrics(y_test, y_pred_dt, \"Árvore de Decisão\")\n",
        "print_metrics(y_test, y_pred_rf, \"Random Forest\")"
      ],
      "metadata": {
        "colab": {
          "base_uri": "https://localhost:8080/"
        },
        "id": "SP0fexmAX5HD",
        "outputId": "fc17b55c-a43e-4a9d-aa1d-f602b057ca2f"
      },
      "execution_count": null,
      "outputs": [
        {
          "output_type": "stream",
          "name": "stdout",
          "text": [
            "\n",
            "Regressão Linear:\n",
            "R² = 0.1693\n",
            "RMSE = 91.17\n",
            "MAE = 52.55\n",
            "\n",
            "Árvore de Decisão:\n",
            "R² = 0.1798\n",
            "RMSE = 90.60\n",
            "MAE = 38.87\n",
            "\n",
            "Random Forest:\n",
            "R² = 0.5322\n",
            "RMSE = 68.42\n",
            "MAE = 32.90\n"
          ]
        }
      ]
    },
    {
      "cell_type": "markdown",
      "metadata": {
        "id": "3fb61a99"
      },
      "source": [
        "Conclusão:\n",
        "\n",
        "- **Random Forest** tem o maior valor de R² (0.5322), indicando que explica uma proporção maior da variância no consumo de energia em comparação com a Regressão Linear (0.1693) e a Árvore de Decisão (0.1798).\n",
        "- **Random Forest** também tem os menores valores de RMSE (68.42) e MAE (32.90), o que significa que suas previsões estão, em média, mais próximas dos valores reais do que os outros dois modelos.\n",
        "\n",
        "Portanto, o modelo **Random Forest** é o melhor entre os três para explicar e prever o consumo de energia com base nesta análise."
      ]
    },
    {
      "cell_type": "markdown",
      "source": [
        "# **Smart Grid Stability**"
      ],
      "metadata": {
        "id": "o4hVdjvHYvx1"
      }
    }
  ]
}